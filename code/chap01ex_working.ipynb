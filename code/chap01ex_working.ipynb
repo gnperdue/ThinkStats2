{
 "metadata": {
  "name": "",
  "signature": "sha256:6e7406364fe2ad11f32aab65d0c858b22361c208f76329111d4c49216b09088e"
 },
 "nbformat": 3,
 "nbformat_minor": 0,
 "worksheets": [
  {
   "cells": [
    {
     "cell_type": "code",
     "collapsed": false,
     "input": [
      "import chap01ex\n",
      "import nsfg"
     ],
     "language": "python",
     "metadata": {},
     "outputs": [],
     "prompt_number": 1
    },
    {
     "cell_type": "code",
     "collapsed": false,
     "input": [
      "df = chap01ex.ReadFemResp()"
     ],
     "language": "python",
     "metadata": {},
     "outputs": [],
     "prompt_number": 2
    },
    {
     "cell_type": "code",
     "collapsed": false,
     "input": [
      "df['pregnum'].head()"
     ],
     "language": "python",
     "metadata": {},
     "outputs": [
      {
       "metadata": {},
       "output_type": "pyout",
       "prompt_number": 3,
       "text": [
        "0    4\n",
        "1    1\n",
        "2    1\n",
        "3    0\n",
        "4    0\n",
        "Name: pregnum, dtype: int64"
       ]
      }
     ],
     "prompt_number": 3
    },
    {
     "cell_type": "code",
     "collapsed": false,
     "input": [
      "df['pregnum'].value_counts().sort_index()"
     ],
     "language": "python",
     "metadata": {},
     "outputs": [
      {
       "metadata": {},
       "output_type": "pyout",
       "prompt_number": 4,
       "text": [
        "0     2610\n",
        "1     1267\n",
        "2     1432\n",
        "3     1110\n",
        "4      611\n",
        "5      305\n",
        "6      150\n",
        "7       80\n",
        "8       40\n",
        "9       21\n",
        "10       9\n",
        "11       3\n",
        "12       2\n",
        "14       2\n",
        "19       1\n",
        "dtype: int64"
       ]
      }
     ],
     "prompt_number": 4
    },
    {
     "cell_type": "code",
     "collapsed": false,
     "input": [
      "df['pregnum'].value_counts().sort_index()[0:7]"
     ],
     "language": "python",
     "metadata": {},
     "outputs": [
      {
       "metadata": {},
       "output_type": "pyout",
       "prompt_number": 5,
       "text": [
        "0    2610\n",
        "1    1267\n",
        "2    1432\n",
        "3    1110\n",
        "4     611\n",
        "5     305\n",
        "6     150\n",
        "dtype: int64"
       ]
      }
     ],
     "prompt_number": 5
    },
    {
     "cell_type": "code",
     "collapsed": false,
     "input": [
      "df['pregnum'].value_counts().sort_index()[7:]"
     ],
     "language": "python",
     "metadata": {},
     "outputs": [
      {
       "metadata": {},
       "output_type": "pyout",
       "prompt_number": 6,
       "text": [
        "7     80\n",
        "8     40\n",
        "9     21\n",
        "10     9\n",
        "11     3\n",
        "12     2\n",
        "14     2\n",
        "19     1\n",
        "dtype: int64"
       ]
      }
     ],
     "prompt_number": 6
    },
    {
     "cell_type": "code",
     "collapsed": false,
     "input": [
      "np.sum(df['pregnum'].value_counts().sort_index()[7:])"
     ],
     "language": "python",
     "metadata": {},
     "outputs": [
      {
       "metadata": {},
       "output_type": "pyout",
       "prompt_number": 7,
       "text": [
        "158"
       ]
      }
     ],
     "prompt_number": 7
    },
    {
     "cell_type": "code",
     "collapsed": false,
     "input": [
      "np.sum(df['pregnum'].value_counts().sort_index())"
     ],
     "language": "python",
     "metadata": {},
     "outputs": [
      {
       "metadata": {},
       "output_type": "pyout",
       "prompt_number": 8,
       "text": [
        "7643"
       ]
      }
     ],
     "prompt_number": 8
    },
    {
     "cell_type": "markdown",
     "metadata": {},
     "source": [
      "Yes, this matches the code book at:\n",
      "\n",
      "http://www.icpsr.umich.edu/nsfg6/Controller?displayPage=labelDetails&fileCode=FEM&section=R&subSec=7869&srtLabel=606835"
     ]
    },
    {
     "cell_type": "code",
     "collapsed": false,
     "input": [
      "dfp = nsfg.ReadFemPreg()"
     ],
     "language": "python",
     "metadata": {},
     "outputs": [],
     "prompt_number": 9
    },
    {
     "cell_type": "code",
     "collapsed": false,
     "input": [
      "# make a dictionary with caseid's for the keys, and pregnancy numbers in the associated lists\n",
      "dct = nsfg.MakePregMap(dfp)"
     ],
     "language": "python",
     "metadata": {},
     "outputs": [],
     "prompt_number": 10
    },
    {
     "cell_type": "code",
     "collapsed": false,
     "input": [
      "dct[9820]"
     ],
     "language": "python",
     "metadata": {},
     "outputs": [
      {
       "metadata": {},
       "output_type": "pyout",
       "prompt_number": 16,
       "text": [
        "[10669, 10670, 10671, 10672, 10673, 10674, 10675]"
       ]
      }
     ],
     "prompt_number": 16
    },
    {
     "cell_type": "code",
     "collapsed": false,
     "input": [
      "dfp.ix[10669]"
     ],
     "language": "python",
     "metadata": {},
     "outputs": [
      {
       "metadata": {},
       "output_type": "pyout",
       "prompt_number": 17,
       "text": [
        "caseid        9820\n",
        "pregordr         1\n",
        "howpreg_n      NaN\n",
        "howpreg_p      NaN\n",
        "moscurrp       NaN\n",
        "nowprgdk       NaN\n",
        "pregend1         3\n",
        "pregend2       NaN\n",
        "nbrnaliv       NaN\n",
        "multbrth       NaN\n",
        "cmotpreg      1062\n",
        "prgoutcome       2\n",
        "cmprgend      1062\n",
        "flgdkmo1         0\n",
        "cmprgbeg      1059\n",
        "...\n",
        "pregnum_i             0.000000\n",
        "parity_i              0.000000\n",
        "insuranc_i            0.000000\n",
        "pubassis_i            0.000000\n",
        "poverty_i             0.000000\n",
        "laborfor_i            0.000000\n",
        "religion_i            0.000000\n",
        "metro_i               0.000000\n",
        "basewgt            3409.827199\n",
        "adj_mod_basewgt    4211.499825\n",
        "finalwgt           7306.952197\n",
        "secu_p                2.000000\n",
        "sest                 15.000000\n",
        "cmintvw                    NaN\n",
        "totalwgt_lb                NaN\n",
        "Name: 10669, Length: 244, dtype: float64"
       ]
      }
     ],
     "prompt_number": 17
    },
    {
     "cell_type": "code",
     "collapsed": false,
     "input": [
      "dfp.ix[10670]"
     ],
     "language": "python",
     "metadata": {},
     "outputs": [
      {
       "metadata": {},
       "output_type": "pyout",
       "prompt_number": 18,
       "text": [
        "caseid        9820\n",
        "pregordr         2\n",
        "howpreg_n      NaN\n",
        "howpreg_p      NaN\n",
        "moscurrp       NaN\n",
        "nowprgdk       NaN\n",
        "pregend1         6\n",
        "pregend2       NaN\n",
        "nbrnaliv         1\n",
        "multbrth       NaN\n",
        "cmotpreg       NaN\n",
        "prgoutcome       1\n",
        "cmprgend      1085\n",
        "flgdkmo1       NaN\n",
        "cmprgbeg      1076\n",
        "...\n",
        "pregnum_i             0.000000\n",
        "parity_i              0.000000\n",
        "insuranc_i            0.000000\n",
        "pubassis_i            0.000000\n",
        "poverty_i             0.000000\n",
        "laborfor_i            0.000000\n",
        "religion_i            0.000000\n",
        "metro_i               0.000000\n",
        "basewgt            3409.827199\n",
        "adj_mod_basewgt    4211.499825\n",
        "finalwgt           7306.952197\n",
        "secu_p                2.000000\n",
        "sest                 15.000000\n",
        "cmintvw                    NaN\n",
        "totalwgt_lb           7.125000\n",
        "Name: 10670, Length: 244, dtype: float64"
       ]
      }
     ],
     "prompt_number": 18
    },
    {
     "cell_type": "code",
     "collapsed": false,
     "input": [
      "len(dct[9820])"
     ],
     "language": "python",
     "metadata": {},
     "outputs": [
      {
       "metadata": {},
       "output_type": "pyout",
       "prompt_number": 19,
       "text": [
        "7"
       ]
      }
     ],
     "prompt_number": 19
    },
    {
     "cell_type": "code",
     "collapsed": false,
     "input": [
      "df[df.caseid == 9820].pregnum"
     ],
     "language": "python",
     "metadata": {},
     "outputs": [
      {
       "metadata": {},
       "output_type": "pyout",
       "prompt_number": 20,
       "text": [
        "1822    7\n",
        "Name: pregnum, dtype: int64"
       ]
      }
     ],
     "prompt_number": 20
    },
    {
     "cell_type": "code",
     "collapsed": false,
     "input": [
      "for idx, cd in dfp.caseid.iteritems():\n",
      "    if (len(dct[cd]) != df[df.caseid == cd].pregnum.iloc[0]):\n",
      "        print \"Bad value!\""
     ],
     "language": "python",
     "metadata": {},
     "outputs": [],
     "prompt_number": 21
    },
    {
     "cell_type": "code",
     "collapsed": false,
     "input": [],
     "language": "python",
     "metadata": {},
     "outputs": []
    }
   ],
   "metadata": {}
  }
 ]
}